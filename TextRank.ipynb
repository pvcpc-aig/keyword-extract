{
 "cells": [
  {
   "cell_type": "markdown",
   "metadata": {},
   "source": [
    "## Text Rank Implementation"
   ]
  },
  {
   "cell_type": "code",
   "execution_count": 408,
   "metadata": {},
   "outputs": [],
   "source": [
    "from nltk import word_tokenize\n",
    "from nltk import pos_tag\n",
    "from nltk.stem import PorterStemmer\n",
    "from nltk.stem import WordNetLemmatizer \n",
    "import stanza\n",
    "\n",
    "import string"
   ]
  },
  {
   "cell_type": "code",
   "execution_count": 409,
   "metadata": {},
   "outputs": [
    {
     "name": "stderr",
     "output_type": "stream",
     "text": [
      "WARNING:stanza:Can not find mwt: default from official model list. Ignoring it.\n",
      "INFO:stanza:Loading these models for language: en (English):\n",
      "=======================\n",
      "| Processor | Package |\n",
      "-----------------------\n",
      "| tokenize  | ewt     |\n",
      "| pos       | ewt     |\n",
      "=======================\n",
      "\n",
      "INFO:stanza:Use device: cpu\n",
      "INFO:stanza:Loading: tokenize\n",
      "INFO:stanza:Loading: pos\n",
      "INFO:stanza:Done loading processors!\n"
     ]
    }
   ],
   "source": [
    "word_id_reverse = {}\n",
    "word_id = {}\n",
    "word_pos = {}\n",
    "\n",
    "nlp = stanza.Pipeline(lang='en', processors='tokenize,mwt,pos')"
   ]
  },
  {
   "cell_type": "code",
   "execution_count": 414,
   "metadata": {},
   "outputs": [],
   "source": [
    "lemmatizer = WordNetLemmatizer()\n",
    "\n",
    "def extract_nn_jj (text):\n",
    "    global word_id_reverse , word_id, word_pos\n",
    "    word_id_reverse = {}\n",
    "    word_id = {}\n",
    "    word_pos = {}\n",
    "    stanza_tags = nlp(text.lower())\n",
    "    text = word_tokenize(text.lower())\n",
    "    tags = []\n",
    "    for sentence in stanza_tags.sentences:\n",
    "        for word in sentence.words:\n",
    "            tags.append((word.text, word.xpos))\n",
    "    tags = [(lemmatizer.lemmatize(tag[0]), tag[1]) for tag in tags]\n",
    "    \n",
    "    i = 0\n",
    "    j = 0\n",
    "    \n",
    "    for word, tag in tags:\n",
    "        if tag[:2] == 'NN' or tag[:2] == 'JJ':\n",
    "            if not word in word_id:\n",
    "                word_id[word] = j\n",
    "                word_id_reverse[j] = word\n",
    "                j += 1\n",
    "                \n",
    "            if word not in word_pos:\n",
    "                word_pos[word] = [i]\n",
    "            else:\n",
    "                word_pos[word].append(i)\n",
    "            \n",
    "        i += 1\n",
    "    \n",
    "    \n",
    "    adj = [[] for i in range(j)]\n",
    "    N = 2\n",
    "    \n",
    "    for root, root_pos in word_pos.items():\n",
    "        for neighbor, neighbor_pos in word_pos.items():\n",
    "            if neighbor != root:\n",
    "                c_N = float('inf')\n",
    "                \n",
    "                for k in root_pos:\n",
    "                    for l in neighbor_pos:\n",
    "                        c_N = min(c_N, abs(k - l))\n",
    "                \n",
    "                if c_N <= N:\n",
    "                    adj[word_id[root]].append(word_id[neighbor])\n",
    "    \n",
    "    return adj\n",
    "            \n",
    "connectivity_graph = extract_nn_jj(open('abstract1.txt').read())            "
   ]
  },
  {
   "cell_type": "code",
   "execution_count": 415,
   "metadata": {},
   "outputs": [],
   "source": [
    "def text_rank_algorithm (adj):\n",
    "    d = 0.85\n",
    "    score = [1 for i in range(len(adj))]\n",
    "    \n",
    "    for i in range(100):\n",
    "        score_change = 0\n",
    "        \n",
    "        for j in range(len(adj)):\n",
    "            current_score = 0\n",
    "            current_node = j\n",
    "            neighbors = adj[current_node]\n",
    "            for neighbor in neighbors:\n",
    "                current_score += (1/len(adj[neighbor])) * score[neighbor]\n",
    "            current_score *= d\n",
    "            current_score = (1 - d) + current_score\n",
    "            \n",
    "            score_change += abs(score[current_node] - current_score)\n",
    "            score[current_node] = current_score\n",
    "        \n",
    "        if score_change < 0.0001:\n",
    "            break\n",
    "    return score\n",
    "    \n",
    "\n",
    "scores = text_rank_algorithm(connectivity_graph)\n",
    "scores = sorted([(scores[i], i) for i in range(len(scores))], reverse=True)"
   ]
  },
  {
   "cell_type": "code",
   "execution_count": 416,
   "metadata": {
    "scrolled": false
   },
   "outputs": [
    {
     "name": "stdout",
     "output_type": "stream",
     "text": [
      "1.731997092734356 linear\n",
      "1.586675611522248 set\n",
      "1.459461820074 bound\n",
      "1.3771093780147163 system\n",
      "1.315907419875756 equation\n",
      "1.2094089498864729 minimal\n",
      "1.090769226788456 inequations\n",
      "0.9864185075099613 strict\n",
      "0.9429702642537734 criterion\n",
      "0.9409471201765731 compatibility\n",
      "0.9248652663028935 number\n",
      "0.8908913666129417 diophantine\n",
      "0.8867813719728289 algorithm\n",
      "0.8802381072097206 natural\n",
      "0.8695479522229529 construction\n",
      "0.8640521357199399 solution\n",
      "0.8298344365829784 generating\n",
      "0.7702716588670587 upper\n",
      "0.77027127353145 component\n",
      "0.6135769213850938 nonstrict\n",
      "0.540180990437503 type\n",
      "0.5180493822060507 constraint\n"
     ]
    }
   ],
   "source": [
    "for score in scores:\n",
    "    print(score[0], word_id_reverse[score[1]])"
   ]
  },
  {
   "cell_type": "markdown",
   "metadata": {},
   "source": [
    "### debugging"
   ]
  },
  {
   "cell_type": "code",
   "execution_count": 403,
   "metadata": {},
   "outputs": [
    {
     "name": "stdout",
     "output_type": "stream",
     "text": [
      "set\n",
      "algorithms\n",
      "sets\n"
     ]
    }
   ],
   "source": [
    "def show_neighbors (word):\n",
    "    for i in connectivity_graph[word_id[word]]:\n",
    "        print(word_id_reverse[i])\n",
    "        \n",
    "show_neighbors('solutions')"
   ]
  }
 ],
 "metadata": {
  "kernelspec": {
   "display_name": "Python 3",
   "language": "python",
   "name": "python3"
  },
  "language_info": {
   "codemirror_mode": {
    "name": "ipython",
    "version": 3
   },
   "file_extension": ".py",
   "mimetype": "text/x-python",
   "name": "python",
   "nbconvert_exporter": "python",
   "pygments_lexer": "ipython3",
   "version": "3.8.5"
  }
 },
 "nbformat": 4,
 "nbformat_minor": 4
}
